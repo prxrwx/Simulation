{
  "nbformat": 4,
  "nbformat_minor": 0,
  "metadata": {
    "colab": {
      "name": "simpy_process.ipynb",
      "provenance": [],
      "include_colab_link": true
    },
    "kernelspec": {
      "name": "python3",
      "display_name": "Python 3"
    },
    "language_info": {
      "name": "python"
    }
  },
  "cells": [
    {
      "cell_type": "markdown",
      "metadata": {
        "id": "view-in-github",
        "colab_type": "text"
      },
      "source": [
        "<a href=\"https://colab.research.google.com/github/prxrwx/Simulation/blob/main/Simpy-process.ipynb\" target=\"_parent\"><img src=\"https://colab.research.google.com/assets/colab-badge.svg\" alt=\"Open In Colab\"/></a>"
      ]
    },
    {
      "cell_type": "markdown",
      "source": [
        "# **Install module simpy**"
      ],
      "metadata": {
        "id": "87yQvElEA2gu"
      }
    },
    {
      "cell_type": "code",
      "execution_count": null,
      "metadata": {
        "id": "SmUmx1X9Axlo",
        "colab": {
          "base_uri": "https://localhost:8080/"
        },
        "outputId": "56f3c6e2-d794-4655-bb04-5254cf7f5899"
      },
      "outputs": [
        {
          "output_type": "stream",
          "name": "stdout",
          "text": [
            "Collecting simpy\n",
            "  Downloading simpy-4.0.1-py2.py3-none-any.whl (29 kB)\n",
            "Installing collected packages: simpy\n",
            "Successfully installed simpy-4.0.1\n"
          ]
        }
      ],
      "source": [
        "!pip install simpy"
      ]
    },
    {
      "cell_type": "markdown",
      "source": [
        "### **import module simpy**"
      ],
      "metadata": {
        "id": "ZuBsPiE1BRqo"
      }
    },
    {
      "cell_type": "code",
      "source": [
        "import simpy"
      ],
      "metadata": {
        "id": "x8g6F7jLBbF6"
      },
      "execution_count": null,
      "outputs": []
    },
    {
      "cell_type": "markdown",
      "source": [
        "# **Create Processs generator \"Car\" for simulation**"
      ],
      "metadata": {
        "id": "jXzfIPZPBcaP"
      }
    },
    {
      "cell_type": "code",
      "source": [
        "# The car will alternately drive and park for a while\n",
        "def car(env):\n",
        "  while True:\n",
        "    print(\"Start parking at %d\" %env.now)\n",
        "    parking_duration = 5 # can be set to a random value\n",
        "    yield env.timeout(parking_duration)\n",
        "\n",
        "    print(\"Start driving at %d\" %env.now)\n",
        "    trip_duration = 2\n",
        "    yield env.timeout(trip_duration)"
      ],
      "metadata": {
        "id": "neUatjW0BWyb"
      },
      "execution_count": null,
      "outputs": []
    },
    {
      "cell_type": "markdown",
      "source": [
        "## **Create environment for process and start process car**"
      ],
      "metadata": {
        "id": "BMmnWfmkBomj"
      }
    },
    {
      "cell_type": "code",
      "source": [
        "env = simpy.Environment()\n",
        "env.process(car(env))"
      ],
      "metadata": {
        "id": "i64x25REB1ES",
        "colab": {
          "base_uri": "https://localhost:8080/"
        },
        "outputId": "be957eb9-0ec4-49c4-9b60-ece18038f179"
      },
      "execution_count": null,
      "outputs": [
        {
          "output_type": "execute_result",
          "data": {
            "text/plain": [
              "<Process(car) object at 0x7fc9f7ab4a90>"
            ]
          },
          "metadata": {},
          "execution_count": 4
        }
      ]
    },
    {
      "cell_type": "markdown",
      "source": [
        "## **Run Process with define simulated time**"
      ],
      "metadata": {
        "id": "iqcac4VkB1il"
      }
    },
    {
      "cell_type": "code",
      "source": [
        "# simulation 20 time units\n",
        "# the car park in 5 time units and drives 2 time units\n",
        "env.run(until = 20)"
      ],
      "metadata": {
        "id": "uk0lfI0zEGJU",
        "colab": {
          "base_uri": "https://localhost:8080/"
        },
        "outputId": "cfbc7751-1284-487d-d89e-261498dbd95b"
      },
      "execution_count": null,
      "outputs": [
        {
          "output_type": "stream",
          "name": "stdout",
          "text": [
            "Start parking at 0\n",
            "Start driving at 5\n",
            "Start parking at 7\n",
            "Start driving at 12\n",
            "Start parking at 14\n",
            "Start driving at 19\n"
          ]
        }
      ]
    },
    {
      "cell_type": "markdown",
      "source": [
        "#**Process Interaction :- Waiting for a Process**"
      ],
      "metadata": {
        "id": "duLxPBwuDwNQ"
      }
    },
    {
      "cell_type": "code",
      "source": [
        "class Car(object):\n",
        "  def __init__(self, env): # constructor method of class Car\n",
        "    self.env = env\n",
        "    # start the run process everytime an instance is created\n",
        "    self.action = env.process(self.run())\n",
        "\n",
        "  def run(self):\n",
        "    while True:\n",
        "      print(\"Start parking and charging at %d\" %self.env.now)\n",
        "      charge_duration = 6\n",
        "      # we yield the process that process parking() returns to wait for charge process\n",
        "      yield self.env.process(self.charge(charge_duration))\n",
        "\n",
        "      # the charge process has finished and we can start driving again\n",
        "      print(\"Start driving at %d\" %self.env.now)\n",
        "      trip_duration = 3\n",
        "      yield self.env.timeout(trip_duration)\n",
        "\n",
        "  def charge(self, duration):\n",
        "    yield self.env.timeout(duration)\n",
        "\n",
        "env = simpy.Environment() # start process in environment for making model\n",
        "car = Car(env)\n",
        "env.run(until = 20)"
      ],
      "metadata": {
        "id": "fQruoCDbEA6E",
        "colab": {
          "base_uri": "https://localhost:8080/"
        },
        "outputId": "7187086b-99b5-4b76-b0fb-2f7ee6b2c84d"
      },
      "execution_count": null,
      "outputs": [
        {
          "output_type": "stream",
          "name": "stdout",
          "text": [
            "Start parking and charging at 0\n",
            "Start driving at 6\n",
            "Start parking and charging at 9\n",
            "Start driving at 15\n",
            "Start parking and charging at 18\n"
          ]
        }
      ]
    },
    {
      "cell_type": "markdown",
      "source": [
        "#**Process Interaction :- Interrupting Another Process**"
      ],
      "metadata": {
        "id": "Bsl89k4mEG31"
      }
    },
    {
      "cell_type": "code",
      "source": [
        "class Car(object):\n",
        "  def __init__(self, env): # constructor method of class Car\n",
        "    self.env = env\n",
        "    # start the run process everytime an instance is created\n",
        "    self.action = env.process(self.run())\n",
        "\n",
        "  def run(self):\n",
        "    while True:\n",
        "      print(\"Start parking and charging at %d\" %self.env.now)\n",
        "      charge_duration = 5\n",
        "      # we may get interrupted while charging thee battery\n",
        "      try:\n",
        "        yield self.env.process(self.charge(charge_duration))\n",
        "      except simpy.Interrupt:\n",
        "        # when we received an interrupt, we stop charging and switch to the \"driving\" state\n",
        "        print(\"Was interrupted. Fope, the battery is full enough ...\")\n",
        "\n",
        "      print(\"Start driving at %d\" %self.env.now)\n",
        "      trip_duration = 2\n",
        "      yield self.env.timeout(trip_duration)\n",
        "\n",
        "  def charge(self, duration):\n",
        "    yield self.env.timeout(duration)\n",
        "\n",
        "def driver(env, car):\n",
        "  yield env.timeout(3)\n",
        "  car.action.interrupt()"
      ],
      "metadata": {
        "id": "Yk_UagqOCGQW"
      },
      "execution_count": null,
      "outputs": []
    },
    {
      "cell_type": "code",
      "source": [
        "env = simpy.Environment()\n",
        "car = Car(env)\n",
        "env.process(driver(env, car))"
      ],
      "metadata": {
        "colab": {
          "base_uri": "https://localhost:8080/"
        },
        "id": "oSWXv1r6e5PY",
        "outputId": "f2538ca9-c5a4-452c-8b3f-c89a52c84a91"
      },
      "execution_count": null,
      "outputs": [
        {
          "output_type": "execute_result",
          "data": {
            "text/plain": [
              "<Process(driver) object at 0x7fc9f79a5c50>"
            ]
          },
          "metadata": {},
          "execution_count": 15
        }
      ]
    },
    {
      "cell_type": "code",
      "source": [
        "env.run(until = 30)"
      ],
      "metadata": {
        "colab": {
          "base_uri": "https://localhost:8080/"
        },
        "id": "FDbv6tlKgCJ3",
        "outputId": "bdd14969-405f-4256-f8c0-9d1918d959e6"
      },
      "execution_count": null,
      "outputs": [
        {
          "output_type": "stream",
          "name": "stdout",
          "text": [
            "Start parking and charging at 0\n",
            "Was interrupted. Fope, the battery is full enough ...\n",
            "Start driving at 3\n",
            "Start parking and charging at 5\n",
            "Start driving at 10\n",
            "Start parking and charging at 12\n",
            "Start driving at 17\n",
            "Start parking and charging at 19\n",
            "Start driving at 24\n",
            "Start parking and charging at 26\n"
          ]
        }
      ]
    }
  ]
}