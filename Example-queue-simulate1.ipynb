{
  "nbformat": 4,
  "nbformat_minor": 0,
  "metadata": {
    "colab": {
      "name": "Example_queue_simulate1.ipynb",
      "provenance": [],
      "include_colab_link": true
    },
    "kernelspec": {
      "name": "python3",
      "display_name": "Python 3"
    },
    "language_info": {
      "name": "python"
    }
  },
  "cells": [
    {
      "cell_type": "markdown",
      "metadata": {
        "id": "view-in-github",
        "colab_type": "text"
      },
      "source": [
        "<a href=\"https://colab.research.google.com/github/prxrwx/Simulation/blob/main/Example-queue-simulate1.ipynb\" target=\"_parent\"><img src=\"https://colab.research.google.com/assets/colab-badge.svg\" alt=\"Open In Colab\"/></a>"
      ]
    },
    {
      "cell_type": "code",
      "source": [
        "!pip install simpy"
      ],
      "metadata": {
        "id": "p4NUCslShA59",
        "colab": {
          "base_uri": "https://localhost:8080/"
        },
        "outputId": "2acc9d6a-fb66-47cd-d550-b138cca78e03"
      },
      "execution_count": null,
      "outputs": [
        {
          "output_type": "stream",
          "name": "stdout",
          "text": [
            "Requirement already satisfied: simpy in /usr/local/lib/python3.7/dist-packages (4.0.1)\n"
          ]
        }
      ]
    },
    {
      "cell_type": "code",
      "source": [
        "import simpy\n",
        "import random"
      ],
      "metadata": {
        "id": "pwaYUfM6mjgp"
      },
      "execution_count": null,
      "outputs": []
    },
    {
      "cell_type": "code",
      "source": [
        "def activity_generator(env, mean_consult, nurse, p_id):\n",
        "  time_enqueue_of_nurse = env.now\n",
        "  print(\"Patient \", p_id, \" entered queue at \", time_enqueue_of_nurse, sep = \"\")\n",
        "\n",
        "  # request a nurse which is sever for consulting\n",
        "  with nurse.request() as req:\n",
        "    # freeze until the request can be met\n",
        "    yield req\n",
        "    \n",
        "    # Calculate time patient was queuing\n",
        "  \n",
        "    time_dequeue_of_nurse = env.now\n",
        "    print(\"Patient \" , p_id, \" left queue at \", time_dequeue_of_nurse,\n",
        "          \" minutes.\", sep=\"\")\n",
        "    # Sample time spent with nurse\n",
        "    sampled_consult_time = random.expovariate(1.0/mean_consult)\n",
        "    \n",
        "    # Freeze until that time has passed\n",
        "    yield env.timeout(sampled_consult_time)\n",
        "    "
      ],
      "metadata": {
        "id": "5N1U7wX3yjam"
      },
      "execution_count": null,
      "outputs": []
    },
    {
      "cell_type": "code",
      "source": [
        "# arrivals generator function\n",
        "def patient_generator(env, wl_inter, mean_consult, nurse):\n",
        "  p_id = 0\n",
        "\n",
        "  # keep generating indefinitely\n",
        "  while True:\n",
        "    # create instance of activity generator\n",
        "    wp = activity_generator(env, mean_consult, nurse, p_id)\n",
        "\n",
        "    # run the activity generator for patient p_id\n",
        "    env.process(wp)\n",
        "    \n",
        "    # sample time until next patient\n",
        "    t= random.expovariate(1.0/wl_inter)\n",
        "    \n",
        "    # Freeze until that time has passed\n",
        "    yield env.timeout(t)\n",
        "\n",
        "    p_id += 1"
      ],
      "metadata": {
        "id": "FnpaSB6-xhtx"
      },
      "execution_count": null,
      "outputs": []
    },
    {
      "cell_type": "code",
      "source": [
        "# Set up simulation environment\n",
        "env = simpy.Environment()\n",
        "\n",
        "# Set up resources\n",
        "nurse = simpy.Resource(env, capacity = 1)\n",
        "\n",
        "# Set up parameter values\n",
        "wl_inter = 5\n",
        "mean_consult = 5\n",
        "\n",
        "# Start the arrivals generator\n",
        "env.process(patient_generator(env, wl_inter, mean_consult, nurse))\n",
        "\n",
        "# Run the simulation\n",
        "env.run(until = 120)"
      ],
      "metadata": {
        "id": "7SQwu0kl2JwN",
        "colab": {
          "base_uri": "https://localhost:8080/"
        },
        "outputId": "cecd190f-ed6b-4d4a-8d98-b1f247649ee1"
      },
      "execution_count": null,
      "outputs": [
        {
          "output_type": "stream",
          "name": "stdout",
          "text": [
            "Patient 0 entered queue at 0\n",
            "Patient 0 left queue at 0 minutes.\n",
            "Patient 1 entered queue at 12.048034376633202\n",
            "Patient 1 left queue at 12.048034376633202 minutes.\n",
            "Patient 2 entered queue at 18.102386329406173\n",
            "Patient 2 left queue at 18.102386329406173 minutes.\n",
            "Patient 3 entered queue at 20.409648110635047\n",
            "Patient 3 left queue at 20.409648110635047 minutes.\n",
            "Patient 4 entered queue at 22.132470670640096\n",
            "Patient 4 left queue at 22.395340943112874 minutes.\n",
            "Patient 5 entered queue at 24.72539606009796\n",
            "Patient 5 left queue at 30.024942300925176 minutes.\n",
            "Patient 6 entered queue at 32.56925943534408\n",
            "Patient 7 entered queue at 34.8477943825606\n",
            "Patient 6 left queue at 36.386293155958676 minutes.\n",
            "Patient 7 left queue at 37.029334938687334 minutes.\n",
            "Patient 8 entered queue at 38.47434892076687\n",
            "Patient 8 left queue at 38.47434892076687 minutes.\n",
            "Patient 9 entered queue at 40.810429651337444\n",
            "Patient 9 left queue at 40.810429651337444 minutes.\n",
            "Patient 10 entered queue at 41.98108419562334\n",
            "Patient 10 left queue at 41.98108419562334 minutes.\n",
            "Patient 11 entered queue at 43.296453588465056\n",
            "Patient 11 left queue at 44.084224935671465 minutes.\n",
            "Patient 12 entered queue at 47.50020643700747\n",
            "Patient 12 left queue at 47.50020643700747 minutes.\n",
            "Patient 13 entered queue at 53.61096258295455\n",
            "Patient 13 left queue at 53.61096258295455 minutes.\n",
            "Patient 14 entered queue at 54.09595900883602\n",
            "Patient 14 left queue at 54.09595900883602 minutes.\n",
            "Patient 15 entered queue at 56.22175016995459\n",
            "Patient 15 left queue at 56.64947279693363 minutes.\n",
            "Patient 16 entered queue at 61.05526645560007\n",
            "Patient 17 entered queue at 62.17526484442099\n",
            "Patient 16 left queue at 64.38816881855647 minutes.\n",
            "Patient 17 left queue at 67.03391851664827 minutes.\n",
            "Patient 18 entered queue at 77.74867202519471\n",
            "Patient 19 entered queue at 78.94440358111528\n",
            "Patient 20 entered queue at 80.75634629820529\n",
            "Patient 18 left queue at 84.12902082643025 minutes.\n",
            "Patient 19 left queue at 94.20364831301472 minutes.\n",
            "Patient 20 left queue at 100.53342140494303 minutes.\n",
            "Patient 21 entered queue at 102.09741150327301\n",
            "Patient 22 entered queue at 105.1993179015564\n",
            "Patient 23 entered queue at 108.08096713442715\n",
            "Patient 21 left queue at 112.23116605169197 minutes.\n",
            "Patient 24 entered queue at 115.91570705634507\n",
            "Patient 25 entered queue at 117.96604638617687\n"
          ]
        }
      ]
    }
  ]
}