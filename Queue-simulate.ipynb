{
  "nbformat": 4,
  "nbformat_minor": 0,
  "metadata": {
    "colab": {
      "name": "610510781_queue_simulate.ipynb",
      "provenance": [],
      "include_colab_link": true
    },
    "kernelspec": {
      "name": "python3",
      "display_name": "Python 3"
    },
    "language_info": {
      "name": "python"
    }
  },
  "cells": [
    {
      "cell_type": "markdown",
      "metadata": {
        "id": "view-in-github",
        "colab_type": "text"
      },
      "source": [
        "<a href=\"https://colab.research.google.com/github/prxrwx/Simulation/blob/main/Queue-simulate.ipynb\" target=\"_parent\"><img src=\"https://colab.research.google.com/assets/colab-badge.svg\" alt=\"Open In Colab\"/></a>"
      ]
    },
    {
      "cell_type": "code",
      "source": [
        "!pip install simpy"
      ],
      "metadata": {
        "id": "p4NUCslShA59",
        "colab": {
          "base_uri": "https://localhost:8080/"
        },
        "outputId": "0e9022eb-4736-4072-d801-5facf175b3bf"
      },
      "execution_count": null,
      "outputs": [
        {
          "output_type": "stream",
          "name": "stdout",
          "text": [
            "Requirement already satisfied: simpy in /usr/local/lib/python3.7/dist-packages (4.0.1)\n"
          ]
        }
      ]
    },
    {
      "cell_type": "code",
      "source": [
        "import simpy\n",
        "import random\n",
        "from statistics import mean \n",
        "# this allows us to take a mean of a list easily"
      ],
      "metadata": {
        "id": "pwaYUfM6mjgp"
      },
      "execution_count": null,
      "outputs": []
    },
    {
      "cell_type": "markdown",
      "source": [
        "SimPy in Queuing simulation and store results in list"
      ],
      "metadata": {
        "id": "aZ9XP5r-FmUe"
      }
    },
    {
      "cell_type": "code",
      "source": [
        "# arrivals generator function\n",
        "def patient_generator_GP(env, wl_inter, mean_regist, mean_consult, mean_booktest, receptionist1, \n",
        "                         gp, receptionist2):\n",
        "  \n",
        "  while True:\n",
        "    # create instance of activity generator\n",
        "    wp = activity_generator_GP(env, mean_regist, mean_consult, mean_booktest,\n",
        "                          receptionist1, gp, receptionist2)\n",
        "\n",
        "    # run the activity generator for patient p_id\n",
        "    env.process(wp)\n",
        "\n",
        "    # sample time until next patient\n",
        "    t = random.expovariate(1.0 / wl_inter)\n",
        "\n",
        "    # freeze until that time has passed\n",
        "    yield env.timeout(t)"
      ],
      "metadata": {
        "id": "XiYJ2NwiTFGi"
      },
      "execution_count": null,
      "outputs": []
    },
    {
      "cell_type": "code",
      "source": [
        "def activity_generator_GP(env, mean_regist, mean_consult, mean_booktest,\n",
        "                          receptionist1, gp, receptionist2):\n",
        "  global list_of_queue_times_registration # list for storing results, declare to be global\n",
        "  global list_of_queue_times_consultation\n",
        "  global list_of_queue_times_booktest\n",
        "\n",
        "  time_enqueue_of_registration = env.now\n",
        "  \n",
        "  # request a receptionist1\n",
        "  with receptionist1.request() as req:\n",
        "    # freeze until the request can be met\n",
        "    yield req\n",
        "\n",
        "    time_dequeue_of_registration = env.now\n",
        "    time_in_queue_for_registration = (time_dequeue_of_registration - time_enqueue_of_registration)\n",
        "    \n",
        "    list_of_queue_times_registration.append(time_in_queue_for_registration) # add time in Q for receptionist1 to list\n",
        "\n",
        "    sampled_registration_time = random.expovariate(1.0/mean_regist)  # sample the time spent in registration\n",
        "\n",
        "    # freeze until that time has passed\n",
        "    yield env.timeout(sampled_registration_time)\n",
        "\n",
        "# The above with statement, assign with the receptionist. Now start for queuing of the nurse.\n",
        "  time_enqueue_of_consultation = env.now\n",
        "\n",
        "  # request a GP\n",
        "  with gp.request() as req:\n",
        "    # freeze until the request can be met\n",
        "    yield req\n",
        "\n",
        "    # calculate time patient was queuing\n",
        "    time_dequeue_of_consultation = env.now\n",
        "    time_in_queue_for_consultation = (time_dequeue_of_consultation - time_enqueue_of_consultation)\n",
        "\n",
        "    list_of_queue_times_consultation.append(time_in_queue_for_consultation) # add time in Q for GP to list\n",
        "    \n",
        "    sampled_consultation_time = random.expovariate(1.0/mean_consult)\n",
        "\n",
        "    # freeze until that time has passed\n",
        "    yield env.timeout(sampled_consultation_time)     \n",
        "\n",
        "    # Branching path for Book Test or Sink          \n",
        "    booktest_branch = random.uniform(0,1)             \n",
        "    if booktest_branch < 0.25:\n",
        "      time_enqueue_of_booktest = env.now\n",
        "\n",
        "      # request a receptionist2\n",
        "      with receptionist2.request() as req:\n",
        "        # freeze until the request can be met\n",
        "        yield req\n",
        "\n",
        "        time_dequeue_of_booktest = env.now\n",
        "        time_in_queue_for_booktest = (time_dequeue_of_booktest - time_enqueue_of_booktest)\n",
        "\n",
        "        list_of_queue_times_booktest.append(time_in_queue_for_booktest) # add time in Q for receptionist2 to list\n",
        "\n",
        "        sampled_booktest_time = random.expovariate(1.0/mean_booktest)\n",
        "        # freeze until that time has elapsed\n",
        "        yield env.timeout(sampled_booktest_time)\n",
        "    else:\n",
        "      yield env.timeout(sampled_consultation_time)"
      ],
      "metadata": {
        "id": "f0YctvQpTJqz"
      },
      "execution_count": null,
      "outputs": []
    },
    {
      "cell_type": "code",
      "source": [
        "# Set up simulation environment\n",
        "env = simpy.Environment()\n",
        "# Set up resources\n",
        "receptionist1 = simpy.Resource(env, capacity = 1)\n",
        "receptionist2 = simpy.Resource(env, capacity = 1)\n",
        "gp = simpy.Resource(env, capacity = 2)\n",
        "# Set up parameter values\n",
        "wl_inter = 5\n",
        "mean_regist = 2\n",
        "mean_consult = 3\n",
        "mean_booktest = 5\n",
        "\n",
        "# Set up a list to store queuing time \n",
        "list_of_queue_times_registration = []\n",
        "list_of_queue_times_consultation =[]\n",
        "list_of_queue_times_booktest =[]\n",
        "#Start the arrivals generator\n",
        "env.process(patient_generator_GP(env, wl_inter, mean_regist, mean_consult, mean_booktest, \n",
        "                                 receptionist1, gp, receptionist2))\n",
        "# run the simulation\n",
        "env.run(until = 480)\n",
        "\n",
        "# calculate and print mean queuing time\n",
        "mean_queue_time_registration = mean(list_of_queue_times_registration)\n",
        "print(\"Mean queuing time of registration (mins) : \", mean_queue_time_registration)\n",
        "mean_queue_time_consultation = mean(list_of_queue_times_consultation)\n",
        "print(\"Mean queuing time of consultation (mins) : \", mean_queue_time_consultation)\n",
        "mean_queue_time_booktest = mean(list_of_queue_times_booktest)\n",
        "print(\"Mean queuing time of book test (mins) : \", mean_queue_time_booktest)"
      ],
      "metadata": {
        "id": "Xh9XIeA0TPdV",
        "colab": {
          "base_uri": "https://localhost:8080/"
        },
        "outputId": "960ffd60-6fd0-4470-e210-bab88f0178fd"
      },
      "execution_count": null,
      "outputs": [
        {
          "output_type": "stream",
          "name": "stdout",
          "text": [
            "Mean queuing time of registration (mins) :  1.189891820672492\n",
            "Mean queuing time of consultation (mins) :  1.8502772610679206\n",
            "Mean queuing time of book test (mins) :  0.4715160608702119\n"
          ]
        }
      ]
    }
  ]
}