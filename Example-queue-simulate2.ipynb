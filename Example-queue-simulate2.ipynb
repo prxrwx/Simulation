{
  "nbformat": 4,
  "nbformat_minor": 0,
  "metadata": {
    "colab": {
      "name": "Example_queue_simulate2.ipynb",
      "provenance": [],
      "include_colab_link": true
    },
    "kernelspec": {
      "name": "python3",
      "display_name": "Python 3"
    },
    "language_info": {
      "name": "python"
    }
  },
  "cells": [
    {
      "cell_type": "markdown",
      "metadata": {
        "id": "view-in-github",
        "colab_type": "text"
      },
      "source": [
        "<a href=\"https://colab.research.google.com/github/prxrwx/Simulation/blob/main/Example-queue-simulate2.ipynb\" target=\"_parent\"><img src=\"https://colab.research.google.com/assets/colab-badge.svg\" alt=\"Open In Colab\"/></a>"
      ]
    },
    {
      "cell_type": "code",
      "source": [
        "import simpy\n",
        "import random"
      ],
      "metadata": {
        "id": "pwaYUfM6mjgp"
      },
      "execution_count": null,
      "outputs": []
    },
    {
      "cell_type": "code",
      "source": [
        "# arrivals generator function\n",
        "def patient_generator(env, ed_inter, mean_register, mean_triage, \n",
        "                      receptionist, nurse):\n",
        "  p_id = 0\n",
        "\n",
        "  # keep generating indefinitely\n",
        "  while True:\n",
        "    # create instance of activity generator\n",
        "    wp = activity_generator(env, mean_register, mean_triage, \n",
        "                            receptionist, nurse, p_id)\n",
        "    \n",
        "    # run the activity generator for patient p_id\n",
        "    env.process(wp)\n",
        "\n",
        "    # sample time until next patient\n",
        "    t = random.expovariate(1.0 / ed_inter) #ของเดิม wl_inter\n",
        "\n",
        "    # Freeze until that time has passed\n",
        "    yield env.timeout(t)\n",
        "\n",
        "    p_id += 1"
      ],
      "metadata": {
        "id": "USVC_7nP8w-r"
      },
      "execution_count": null,
      "outputs": []
    },
    {
      "cell_type": "code",
      "source": [
        "def activity_generator(env, mean_register, mean_triage, receptionist, nurse, p_id):\n",
        "  time_enqueue_of_registration = env.now\n",
        "  \n",
        "  # Request a receptionist\n",
        "  with receptionist.request() as req:\n",
        "    # Freeze until the request can be met\n",
        "    yield req\n",
        "\n",
        "     #Calculate time patient was queuing in registration\n",
        "    time_dequeue_of_registration = env.now\n",
        "    time_in_queue_for_registration = (time_dequeue_of_registration - time_enqueue_of_registration)\n",
        "\n",
        "    print(\"Patient \",p_id, \" queued for registration for \", time_in_queue_for_registration, \" minutes.\",sep=\"\")\n",
        "    # Sample the time spent in registration\n",
        "    smapled_registration_time = random.expovariate(1.0/mean_register)\n",
        "\n",
        "    # Freeze until that time has elapsed\n",
        "    yield env.timeout(smapled_registration_time)\n",
        "\n",
        "# The above with statement, assign with the receptionist. \n",
        "# Now start for queuing of the nurse.\n",
        "  time_enqueue_of_nurse = env.now\n",
        "\n",
        "  # Request a nurse\n",
        "  with nurse.request() as req:\n",
        "    # Freeze until the request can be met\n",
        "    yield req\n",
        "\n",
        "    # Calculate time patient was queuing for nurse\n",
        "    time_dequeue_of_nurse = env.now\n",
        "    time_in_queue_for_nurse = (time_dequeue_of_nurse - time_enqueue_of_nurse)\n",
        "\n",
        "    print(\"Patient \" , p_id, \" queued for triage for \", \n",
        "          time_in_queue_for_nurse, \" minutes.\", sep=\"\")\n",
        "    # Sample time spent with nurse\n",
        "    sapled_triage_time = random.expovariate(1.0/mean_triage)\n",
        "\n",
        "    # Freeze until that time has passed\n",
        "    yield env.timeout(sapled_triage_time)"
      ],
      "metadata": {
        "id": "s52nBWWv9blZ"
      },
      "execution_count": null,
      "outputs": []
    },
    {
      "cell_type": "code",
      "source": [
        "# Set up simulation enviroment\n",
        "env = simpy.Environment()\n",
        "\n",
        "# Set up resources\n",
        "receptionist = simpy.Resource(env, capacity = 1)\n",
        "nurse = simpy.Resource(env, capacity = 1)\n",
        "\n",
        "# Set up parameter values\n",
        "ed_inter = 5\n",
        "mean_register = 2\n",
        "mean_triage = 5\n",
        "\n",
        "# Start the arrivals generator\n",
        "env.process(patient_generator(env, ed_inter, mean_register, mean_triage, receptionist, nurse))\n",
        "\n",
        "# Run the simulation\n",
        "env.run(until=60)"
      ],
      "metadata": {
        "id": "0KtGXUzsAmDe",
        "colab": {
          "base_uri": "https://localhost:8080/"
        },
        "outputId": "74e413a8-55ab-4e63-9afd-77aef041e115"
      },
      "execution_count": null,
      "outputs": [
        {
          "output_type": "stream",
          "name": "stdout",
          "text": [
            "Patient 0 queued for registration for 0 minutes.\n",
            "Patient 0 queued for triage for 0.0 minutes.\n",
            "Patient 1 queued for registration for 0.0 minutes.\n",
            "Patient 2 queued for registration for 0.0 minutes.\n",
            "Patient 1 queued for triage for 2.552606837378758 minutes.\n",
            "Patient 3 queued for registration for 0.0 minutes.\n",
            "Patient 2 queued for triage for 7.3520468214793855 minutes.\n",
            "Patient 4 queued for registration for 1.7851330158433036 minutes.\n",
            "Patient 3 queued for triage for 1.3980337153950586 minutes.\n",
            "Patient 5 queued for registration for 0.0 minutes.\n",
            "Patient 6 queued for registration for 0.0 minutes.\n",
            "Patient 4 queued for triage for 6.4638386891219906 minutes.\n",
            "Patient 7 queued for registration for 0.0 minutes.\n",
            "Patient 8 queued for registration for 0.0 minutes.\n",
            "Patient 5 queued for triage for 16.816189945104984 minutes.\n",
            "Patient 6 queued for triage for 14.231677174018213 minutes.\n",
            "Patient 7 queued for triage for 5.099673851483615 minutes.\n",
            "Patient 9 queued for registration for 0.0 minutes.\n",
            "Patient 10 queued for registration for 1.8918278167254954 minutes.\n",
            "Patient 11 queued for registration for 1.7775878689335443 minutes.\n",
            "Patient 12 queued for registration for 0.0 minutes.\n",
            "Patient 13 queued for registration for 0.0 minutes.\n",
            "Patient 14 queued for registration for 0.6951534389502925 minutes.\n",
            "Patient 15 queued for registration for 0.7175675917846149 minutes.\n",
            "Patient 16 queued for registration for 0.0 minutes.\n",
            "Patient 8 queued for triage for 26.32945334591622 minutes.\n",
            "Patient 17 queued for registration for 0.0 minutes.\n"
          ]
        }
      ]
    }
  ]
}